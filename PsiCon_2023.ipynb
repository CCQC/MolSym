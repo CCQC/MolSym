{
 "cells": [
  {
   "cell_type": "code",
   "execution_count": 1,
   "metadata": {},
   "outputs": [],
   "source": [
    "import numpy as np\n",
    "import qcelemental as qcel\n",
    "import molsym\n",
    "np.set_printoptions(suppress=True, precision=3, linewidth=600)"
   ]
  },
  {
   "cell_type": "code",
   "execution_count": 2,
   "metadata": {
    "scrolled": true
   },
   "outputs": [
    {
     "name": "stdout",
     "output_type": "stream",
     "text": [
      "Td\n"
     ]
    }
   ],
   "source": [
    "# Create Molecule from xyz file\n",
    "\n",
    "#fn = \"test/xyz/ammonia.xyz\"\n",
    "fn = \"test/xyz/methane.xyz\"\n",
    "#fn = \"test/xyz/benzene.xyz\"\n",
    "\n",
    "mol = molsym.Molecule.from_file(fn)\n",
    "pg, (paxis, saxis) = molsym.find_point_group(mol)\n",
    "print(pg)"
   ]
  },
  {
   "cell_type": "code",
   "execution_count": 3,
   "metadata": {},
   "outputs": [
    {
     "name": "stdout",
     "output_type": "stream",
     "text": [
      "Td\n"
     ]
    }
   ],
   "source": [
    "# Create Molecule from Schema\n",
    "\n",
    "with open(fn, \"r\") as lfn:\n",
    "    file_str = lfn.read()\n",
    "schema = qcel.models.Molecule.from_data(file_str).dict()\n",
    "mol = molsym.Molecule.from_schema(schema)\n",
    "pg, (paxis, saxis) = molsym.find_point_group(mol)\n",
    "print(pg)"
   ]
  },
  {
   "cell_type": "code",
   "execution_count": 4,
   "metadata": {},
   "outputs": [
    {
     "name": "stdout",
     "output_type": "stream",
     "text": [
      "The default tolerance for detecting symmetry is: 1e-05\n",
      "The point group for a tolerance of 1e-12 is Td\n",
      "The point group for a tolerance of 1e-12 is Td after symmetrization\n"
     ]
    }
   ],
   "source": [
    "# The coordinates in test/xyz/ammonia.xyz are not symmetric to a tight tolerance\n",
    "\n",
    "print(f\"The default tolerance for detecting symmetry is: {mol.tol}\")\n",
    "\n",
    "# Increase tolerance\n",
    "mol.tol = 1e-12\n",
    "pg, (paxis, saxis) = molsym.find_point_group(mol)\n",
    "print(f\"The point group for a tolerance of {mol.tol} is {pg}\")\n",
    "mol.tol = 1e-5\n",
    "\n",
    "# molsym.symmetrize uses a loose tolerance to detect a potential point group, \n",
    "#     then forces the Molecule to that symmetry to near machine precision\n",
    "mol = molsym.symmetrize(mol)\n",
    "pg, (paxis, saxis) = molsym.find_point_group(mol)\n",
    "print(f\"The point group for a tolerance of {mol.tol} is {pg} after symmetrization\")"
   ]
  },
  {
   "cell_type": "code",
   "execution_count": 5,
   "metadata": {},
   "outputs": [
    {
     "data": {
      "text/plain": [
       "[\n",
       " Symbol:          E: [[ 1.00000  0.00000  0.00000],[ 0.00000  1.00000  0.00000],[ 0.00000  0.00000  1.00000]],\n",
       " \n",
       " Symbol: C_3(alpha): [[ 0.00000  0.00000  1.00000],[ 1.00000  0.00000  0.00000],[ 0.00000  1.00000  0.00000]],\n",
       " \n",
       " Symbol: C_3^2(alpha): [[ 0.00000  1.00000  0.00000],[ 0.00000  0.00000  1.00000],[ 1.00000  0.00000  0.00000]],\n",
       " \n",
       " Symbol:  C_3(beta): [[ 0.00000  0.00000  1.00000],[-1.00000  0.00000  0.00000],[ 0.00000 -1.00000  0.00000]],\n",
       " \n",
       " Symbol: C_3^2(beta): [[ 0.00000 -1.00000  0.00000],[-0.00000  0.00000 -1.00000],[ 1.00000 -0.00000  0.00000]],\n",
       " \n",
       " Symbol: C_3(gamma): [[ 0.00000  0.00000 -1.00000],[ 1.00000  0.00000  0.00000],[ 0.00000 -1.00000  0.00000]],\n",
       " \n",
       " Symbol: C_3^2(gamma): [[ 0.00000  1.00000 -0.00000],[ 0.00000  0.00000 -1.00000],[-1.00000 -0.00000  0.00000]],\n",
       " \n",
       " Symbol: C_3(delta): [[ 0.00000  0.00000 -1.00000],[-1.00000  0.00000  0.00000],[ 0.00000  1.00000  0.00000]],\n",
       " \n",
       " Symbol: C_3^2(delta): [[ 0.00000 -1.00000 -0.00000],[-0.00000  0.00000  1.00000],[-1.00000  0.00000  0.00000]],\n",
       " \n",
       " Symbol:     C_2(x): [[ 1.00000  0.00000  0.00000],[ 0.00000 -1.00000 -0.00000],[ 0.00000  0.00000 -1.00000]],\n",
       " \n",
       " Symbol:     C_2(y): [[-1.00000  0.00000  0.00000],[ 0.00000  1.00000  0.00000],[-0.00000  0.00000 -1.00000]],\n",
       " \n",
       " Symbol:     C_2(z): [[-1.00000 -0.00000  0.00000],[ 0.00000 -1.00000  0.00000],[ 0.00000  0.00000  1.00000]],\n",
       " \n",
       " Symbol: sigma_d(xyp): [[ 0.00000 -1.00000 -0.00000],[-1.00000  0.00000 -0.00000],[-0.00000 -0.00000  1.00000]],\n",
       " \n",
       " Symbol: sigma_d(xym): [[ 0.00000  1.00000 -0.00000],[ 1.00000  0.00000  0.00000],[-0.00000  0.00000  1.00000]],\n",
       " \n",
       " Symbol: sigma_d(xzp): [[ 0.00000 -0.00000 -1.00000],[-0.00000  1.00000 -0.00000],[-1.00000 -0.00000  0.00000]],\n",
       " \n",
       " Symbol: sigma_d(xzm): [[ 0.00000 -0.00000  1.00000],[-0.00000  1.00000  0.00000],[ 1.00000  0.00000  0.00000]],\n",
       " \n",
       " Symbol: sigma_d(yzp): [[ 1.00000 -0.00000 -0.00000],[-0.00000  0.00000 -1.00000],[-0.00000 -1.00000  0.00000]],\n",
       " \n",
       " Symbol: sigma_d(yzm): [[ 1.00000 -0.00000  0.00000],[-0.00000  0.00000  1.00000],[ 0.00000  1.00000  0.00000]],\n",
       " \n",
       " Symbol:     S_4(x): [[-1.00000  0.00000  0.00000],[ 0.00000  0.00000 -1.00000],[ 0.00000  1.00000  0.00000]],\n",
       " \n",
       " Symbol:   S_4^3(x): [[-1.00000  0.00000  0.00000],[ 0.00000 -0.00000  1.00000],[ 0.00000 -1.00000 -0.00000]],\n",
       " \n",
       " Symbol:     S_4(y): [[ 0.00000  0.00000  1.00000],[ 0.00000 -1.00000  0.00000],[-1.00000  0.00000  0.00000]],\n",
       " \n",
       " Symbol:   S_4^3(y): [[-0.00000  0.00000 -1.00000],[ 0.00000 -1.00000  0.00000],[ 1.00000  0.00000 -0.00000]],\n",
       " \n",
       " Symbol:     S_4(z): [[ 0.00000 -1.00000  0.00000],[ 1.00000  0.00000  0.00000],[ 0.00000  0.00000 -1.00000]],\n",
       " \n",
       " Symbol:   S_4^3(z): [[-0.00000  1.00000  0.00000],[-1.00000 -0.00000  0.00000],[ 0.00000  0.00000 -1.00000]]]"
      ]
     },
     "execution_count": 5,
     "metadata": {},
     "output_type": "execute_result"
    }
   ],
   "source": [
    "# Given a valid Schönflies symbol as a string, the symmetry elements (symels) can be generated\n",
    "molsym.symtext.main.pg_to_symels(pg)"
   ]
  },
  {
   "cell_type": "code",
   "execution_count": 6,
   "metadata": {},
   "outputs": [
    {
     "data": {
      "text/plain": [
       "Character Table for Td\n",
       "Irreps: ['A1', 'A2', 'E', 'T1', 'T2']\n",
       "Classes: ['E', '8C_3', '3C_2', '6S_4', '6sigma_d']\n",
       "Characters:\n",
       "[[ 1.  1.  1.  1.  1.]\n",
       " [ 1.  1.  1. -1. -1.]\n",
       " [ 2. -1.  2.  0.  0.]\n",
       " [ 3.  1. -1.  1. -1.]\n",
       " [ 3. -1. -1. -1.  1.]]"
      ]
     },
     "execution_count": 6,
     "metadata": {},
     "output_type": "execute_result"
    }
   ],
   "source": [
    "# Similarly, the real valued character table of any point group can be generated\n",
    "molsym.symtext.main.pg_to_chartab(pg)"
   ]
  },
  {
   "cell_type": "code",
   "execution_count": 7,
   "metadata": {},
   "outputs": [
    {
     "name": "stdout",
     "output_type": "stream",
     "text": [
      "\n",
      "MolSym Molecule:\n",
      "   C       0.00000000    -0.00000000    -0.00000000\n",
      "   H       1.18465230    -1.18465230     1.18465230\n",
      "   H      -1.18465230     1.18465230     1.18465230\n",
      "   H       1.18465230     1.18465230    -1.18465230\n",
      "   H      -1.18465230    -1.18465230    -1.18465230\n",
      "\n",
      "Character Table for Td\n",
      "Irreps: ['A1', 'A2', 'E', 'T1', 'T2']\n",
      "Classes: ['E', '8C_3', '3C_2', '6S_4', '6sigma_d']\n",
      "Characters:\n",
      "[[ 1.  1.  1.  1.  1.]\n",
      " [ 1.  1.  1. -1. -1.]\n",
      " [ 2. -1.  2.  0.  0.]\n",
      " [ 3.  1. -1.  1. -1.]\n",
      " [ 3. -1. -1. -1.  1.]]\n",
      "\n",
      "[\n",
      "Symbol:          E: [[ 1.00000  0.00000  0.00000],[ 0.00000  1.00000  0.00000],[ 0.00000  0.00000  1.00000]], \n",
      "Symbol: C_3(alpha): [[ 0.00000  0.00000  1.00000],[ 1.00000  0.00000  0.00000],[ 0.00000  1.00000  0.00000]], \n",
      "Symbol: C_3^2(alpha): [[ 0.00000  1.00000  0.00000],[ 0.00000  0.00000  1.00000],[ 1.00000  0.00000  0.00000]], \n",
      "Symbol:  C_3(beta): [[ 0.00000  0.00000  1.00000],[-1.00000  0.00000  0.00000],[ 0.00000 -1.00000  0.00000]], \n",
      "Symbol: C_3^2(beta): [[ 0.00000 -1.00000  0.00000],[-0.00000  0.00000 -1.00000],[ 1.00000 -0.00000  0.00000]], \n",
      "Symbol: C_3(gamma): [[ 0.00000  0.00000 -1.00000],[ 1.00000  0.00000  0.00000],[ 0.00000 -1.00000  0.00000]], \n",
      "Symbol: C_3^2(gamma): [[ 0.00000  1.00000 -0.00000],[ 0.00000  0.00000 -1.00000],[-1.00000 -0.00000  0.00000]], \n",
      "Symbol: C_3(delta): [[ 0.00000  0.00000 -1.00000],[-1.00000  0.00000  0.00000],[ 0.00000  1.00000  0.00000]], \n",
      "Symbol: C_3^2(delta): [[ 0.00000 -1.00000 -0.00000],[-0.00000  0.00000  1.00000],[-1.00000  0.00000  0.00000]], \n",
      "Symbol:     C_2(x): [[ 1.00000  0.00000  0.00000],[ 0.00000 -1.00000 -0.00000],[ 0.00000  0.00000 -1.00000]], \n",
      "Symbol:     C_2(y): [[-1.00000  0.00000  0.00000],[ 0.00000  1.00000  0.00000],[-0.00000  0.00000 -1.00000]], \n",
      "Symbol:     C_2(z): [[-1.00000 -0.00000  0.00000],[ 0.00000 -1.00000  0.00000],[ 0.00000  0.00000  1.00000]], \n",
      "Symbol: sigma_d(xyp): [[ 0.00000 -1.00000 -0.00000],[-1.00000  0.00000 -0.00000],[-0.00000 -0.00000  1.00000]], \n",
      "Symbol: sigma_d(xym): [[ 0.00000  1.00000 -0.00000],[ 1.00000  0.00000  0.00000],[-0.00000  0.00000  1.00000]], \n",
      "Symbol: sigma_d(xzp): [[ 0.00000 -0.00000 -1.00000],[-0.00000  1.00000 -0.00000],[-1.00000 -0.00000  0.00000]], \n",
      "Symbol: sigma_d(xzm): [[ 0.00000 -0.00000  1.00000],[-0.00000  1.00000  0.00000],[ 1.00000  0.00000  0.00000]], \n",
      "Symbol: sigma_d(yzp): [[ 1.00000 -0.00000 -0.00000],[-0.00000  0.00000 -1.00000],[-0.00000 -1.00000  0.00000]], \n",
      "Symbol: sigma_d(yzm): [[ 1.00000 -0.00000  0.00000],[-0.00000  0.00000  1.00000],[ 0.00000  1.00000  0.00000]], \n",
      "Symbol:     S_4(x): [[-1.00000  0.00000  0.00000],[ 0.00000  0.00000 -1.00000],[ 0.00000  1.00000  0.00000]], \n",
      "Symbol:   S_4^3(x): [[-1.00000  0.00000  0.00000],[ 0.00000 -0.00000  1.00000],[ 0.00000 -1.00000 -0.00000]], \n",
      "Symbol:     S_4(y): [[ 0.00000  0.00000  1.00000],[ 0.00000 -1.00000  0.00000],[-1.00000  0.00000  0.00000]], \n",
      "Symbol:   S_4^3(y): [[-0.00000  0.00000 -1.00000],[ 0.00000 -1.00000  0.00000],[ 1.00000  0.00000 -0.00000]], \n",
      "Symbol:     S_4(z): [[ 0.00000 -1.00000  0.00000],[ 1.00000  0.00000  0.00000],[ 0.00000  0.00000 -1.00000]], \n",
      "Symbol:   S_4^3(z): [[-0.00000  1.00000  0.00000],[-1.00000 -0.00000  0.00000],[ 0.00000  0.00000 -1.00000]]]\n",
      "Class map:\n",
      "[0 1 1 1 1 1 1 1 1 2 2 2 4 4 4 4 4 4 3 3 3 3 3 3]\n",
      "Atom map:\n",
      "[[0 0 0 0 0 0 0 0 0 0 0 0 0 0 0 0 0 0 0 0 0 0 0 0]\n",
      " [1 3 2 1 1 2 4 4 3 3 4 2 1 2 4 1 1 3 4 2 3 2 3 4]\n",
      " [2 1 3 3 4 4 1 2 2 4 3 1 2 1 2 3 4 2 1 3 1 4 4 3]\n",
      " [3 2 1 4 2 3 3 1 4 1 2 4 4 3 3 2 3 1 2 4 4 1 2 1]\n",
      " [4 4 4 2 3 1 2 3 1 2 1 3 3 4 1 4 2 4 3 1 2 3 1 2]]\n",
      "Multiplication Table\n",
      "[[ 0  1  2  3  4  5  6  7  8  9 10 11 12 13 14 15 16 17 18 19 20 21 22 23]\n",
      " [ 1  2  0  8  9  4 10  6 11  5  7  3 20 15 18 17 22 13 23 12 19 16 21 14]\n",
      " [ 2  0  1 11  5  9  7 10  3  4  6  8 19 17 23 13 21 15 14 20 12 22 16 18]\n",
      " [ 3  6  9  4  0  8 11  2 10  7  5  1 15 20 19 16 12 23 13 22 18 17 14 21]\n",
      " [ 4 11  7  0  3 10  1  9  5  2  8  6 16 18 22 12 15 21 20 14 13 23 19 17]\n",
      " [ 5  8 10  2 11  6  0  4  9  1  3  7 21 14 16 19 13 22 12 23 17 18 20 15]\n",
      " [ 6  9  3 10  7  0  5 11  1  8  2  4 18 16 13 23 14 20 21 15 22 12 17 19]\n",
      " [ 7  4 11  6 10  2  9  8  0  3  1  5 14 21 17 18 23 12 22 13 16 19 15 20]\n",
      " [ 8 10  5  9  1 11  3  0  7  6  4  2 17 19 12 22 20 14 15 21 23 13 18 16]\n",
      " [ 9  3  6  1  8  7  2  5  4  0 11 10 22 23 21 20 17 16 19 18 15 14 12 13]\n",
      " [10  5  8  7  6  1  4  3  2 11  0  9 23 22 15 14 18 19 16 17 21 20 13 12]\n",
      " [11  7  4  5  2  3  8  1  6 10  9  0 13 12 20 21 19 18 17 16 14 15 23 22]\n",
      " [12 18 21 16 15 19 20 17 14 23 22 13  0 11  8  4  3  7  1  5  6  2 10  9]\n",
      " [13 17 15 19 21 16 14 18 20 22 23 12 11  0  6  2  5  1  7  3  8  4  9 10]\n",
      " [14 22 19 23 18 13 16 12 17 20 15 21  7  5  0 10  6  8  4  2  9 11  1  3]\n",
      " [15 13 17 12 16 22 18 23 19 21 14 20  3  1 10  0  4  2  6  8 11  9  5  7]\n",
      " [16 20 23 15 12 14 13 21 22 17 19 18  4  6  5  3  0  9 11 10  1  7  8  2]\n",
      " [17 15 13 20 22 21 23 14 12 16 18 19  8  2  7  1  9  0 10 11  3  5  4  6]\n",
      " [18 21 12 14 23 15 22 20 13 19 17 16  6  4  1  7 10 11  9  0  5  3  2  8]\n",
      " [19 14 22 21 13 20 12 15 23 18 16 17  2  8  3  5 11 10  0  9  7  1  6  4]\n",
      " [20 23 16 22 17 12 19 13 18 14 21 15  1  3 11  9  8  6  2  4 10  0  7  5]\n",
      " [21 12 18 13 19 23 17 22 16 15 20 14  5  7  9 11  2  4  8  6  0 10  3  1]\n",
      " [22 19 14 17 20 18 15 16 21 13 12 23  9 10  4  8  1  5  3  7  2  6 11  0]\n",
      " [23 16 20 18 14 17 21 19 15 12 13 22 10  9  2  6  7  3  5  1  4  8  0 11]]\n"
     ]
    }
   ],
   "source": [
    "\"\"\"\n",
    "Most of the necessary symmetry information is stored in the Symtext object, such as:\n",
    "    - A molecule rotated to the symmetry element reference frame\n",
    "    - Matrices for rotating Cartesian vectors to and from the symmetry element ref. frame\n",
    "    - List of symmetry elements\n",
    "    - Character table object\n",
    "    - Map of all atoms in the Molecule under each symmetry operation\n",
    "    - Multiplication table of the symmetry operations\n",
    "\"\"\"\n",
    "\n",
    "symtext = molsym.Symtext.from_molecule(mol)\n",
    "print(symtext)"
   ]
  },
  {
   "cell_type": "code",
   "execution_count": 8,
   "metadata": {},
   "outputs": [
    {
     "name": "stdout",
     "output_type": "stream",
     "text": [
      "SALC from P^A1_00 (3) gamma= 3.464\n",
      "[-0.    -0.    -0.     0.289 -0.289  0.289 -0.289  0.289  0.289  0.289  0.289 -0.289 -0.289 -0.289 -0.289]\n",
      "SALC from P^E_00 (3) gamma= 4.899\n",
      "[ 0.    -0.     0.     0.204 -0.204 -0.408 -0.204  0.204 -0.408  0.204  0.204  0.408 -0.204 -0.204  0.408]\n",
      "SALC from P^E_10 (3) gamma= 4.899\n",
      "[-0.    -0.    -0.    -0.354 -0.354 -0.     0.354  0.354 -0.    -0.354  0.354  0.     0.354 -0.354  0.   ]\n",
      "SALC from P^T2_00 (0) gamma= 1.994\n",
      "[ 0.501 -0.     0.    -0.433 -0.    -0.    -0.433  0.     0.    -0.433 -0.     0.    -0.433  0.    -0.   ]\n",
      "SALC from P^T2_10 (0) gamma= 1.994\n",
      "[ 0.     0.501  0.    -0.    -0.433 -0.     0.    -0.433  0.    -0.    -0.433 -0.    -0.    -0.433  0.   ]\n",
      "SALC from P^T2_20 (0) gamma= 1.994\n",
      "[-0.     0.     0.501  0.    -0.    -0.433  0.    -0.    -0.433 -0.     0.    -0.433 -0.     0.    -0.433]\n",
      "SALC from P^T2_01 (3) gamma= 2.828\n",
      "[ 0.    -0.     0.    -0.     0.354 -0.354  0.     0.354  0.354 -0.    -0.354  0.354 -0.    -0.354 -0.354]\n",
      "SALC from P^T2_11 (3) gamma= 2.828\n",
      "[-0.     0.    -0.     0.354 -0.     0.354  0.354  0.    -0.354 -0.354 -0.     0.354 -0.354  0.    -0.354]\n",
      "SALC from P^T2_21 (3) gamma= 2.828\n",
      "[-0.    -0.    -0.    -0.354  0.354 -0.     0.354 -0.354  0.     0.354  0.354  0.    -0.354 -0.354 -0.   ]\n",
      "\n"
     ]
    }
   ],
   "source": [
    "\"\"\"\n",
    "The main goal of MolSym is to return Symmetry Adapted Linear Combinations of arbitrary functions.\n",
    "Built in are SALCs of Cartesian coordinates, internal coordinates, and atomic basis functions.\n",
    "\"\"\"\n",
    "\n",
    "cart_coords = molsym.salcs.CartesianCoordinates(symtext)\n",
    "salcs = molsym.salcs.ProjectionOp(symtext, cart_coords)\n",
    "print(salcs)"
   ]
  },
  {
   "cell_type": "code",
   "execution_count": 9,
   "metadata": {},
   "outputs": [
    {
     "name": "stdout",
     "output_type": "stream",
     "text": [
      "[[-0.     0.    -0.     0.501  0.     0.    -0.    -0.    -0.   ]\n",
      " [-0.    -0.    -0.    -0.    -0.     0.501  0.     0.    -0.   ]\n",
      " [-0.     0.    -0.     0.     0.     0.    -0.     0.501 -0.   ]\n",
      " [ 0.289  0.204 -0.354 -0.433 -0.    -0.     0.354  0.    -0.354]\n",
      " [-0.289 -0.204 -0.354 -0.     0.354 -0.433 -0.    -0.     0.354]\n",
      " [ 0.289 -0.408 -0.    -0.    -0.354 -0.     0.354 -0.433 -0.   ]\n",
      " [-0.289 -0.204  0.354 -0.433  0.     0.     0.354  0.     0.354]\n",
      " [ 0.289  0.204  0.354  0.     0.354 -0.433  0.    -0.    -0.354]\n",
      " [ 0.289 -0.408 -0.     0.     0.354  0.    -0.354 -0.433  0.   ]\n",
      " [ 0.289  0.204 -0.354 -0.433 -0.    -0.    -0.354 -0.     0.354]\n",
      " [ 0.289  0.204  0.354 -0.    -0.354 -0.433 -0.     0.     0.354]\n",
      " [-0.289  0.408  0.     0.     0.354 -0.     0.354 -0.433  0.   ]\n",
      " [-0.289 -0.204  0.354 -0.433 -0.    -0.    -0.354 -0.    -0.354]\n",
      " [-0.289 -0.204 -0.354  0.    -0.354 -0.433  0.     0.    -0.354]\n",
      " [-0.289  0.408  0.    -0.    -0.354  0.    -0.354 -0.433 -0.   ]]\n"
     ]
    }
   ],
   "source": [
    "B = salcs.basis_transformation_matrix\n",
    "print(B)"
   ]
  },
  {
   "cell_type": "code",
   "execution_count": 10,
   "metadata": {},
   "outputs": [
    {
     "name": "stdout",
     "output_type": "stream",
     "text": [
      "[[ 1. -0. -0. -0. -0.  0. -0.  0. -0.]\n",
      " [-0.  1.  0.  0.  0. -0.  0.  0.  0.]\n",
      " [-0.  0.  1. -0. -0. -0. -0. -0.  0.]\n",
      " [-0.  0. -0.  1.  0.  0. -0. -0.  0.]\n",
      " [-0.  0. -0.  0.  1. -0.  0. -0.  0.]\n",
      " [ 0. -0. -0.  0. -0.  1.  0. -0.  0.]\n",
      " [-0.  0. -0. -0.  0.  0.  1.  0. -0.]\n",
      " [ 0.  0. -0. -0. -0. -0.  0.  1. -0.]\n",
      " [-0.  0.  0.  0.  0.  0. -0. -0.  1.]]\n"
     ]
    }
   ],
   "source": [
    "print(B.T@B)"
   ]
  },
  {
   "cell_type": "code",
   "execution_count": null,
   "metadata": {},
   "outputs": [],
   "source": []
  }
 ],
 "metadata": {
  "kernelspec": {
   "display_name": "Symmetry",
   "language": "python",
   "name": "symmetry"
  },
  "language_info": {
   "codemirror_mode": {
    "name": "ipython",
    "version": 3
   },
   "file_extension": ".py",
   "mimetype": "text/x-python",
   "name": "python",
   "nbconvert_exporter": "python",
   "pygments_lexer": "ipython3",
   "version": "3.9.15"
  }
 },
 "nbformat": 4,
 "nbformat_minor": 4
}
